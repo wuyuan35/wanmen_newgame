{
 "cells": [
  {
   "cell_type": "markdown",
   "id": "e52e53eb-6ce4-42a7-925d-f0eec965c271",
   "metadata": {},
   "source": [
    "# some text"
   ]
  },
  {
   "cell_type": "code",
   "execution_count": 4,
   "id": "aa57c90b-139a-461a-b061-42b090a3013c",
   "metadata": {},
   "outputs": [
    {
     "name": "stdout",
     "output_type": "stream",
     "text": [
      "hello world\n"
     ]
    }
   ],
   "source": [
    "print(\"hello world\")"
   ]
  },
  {
   "cell_type": "code",
   "execution_count": 1,
   "id": "cddb6163-0121-45fc-8d8d-92cf361e2501",
   "metadata": {},
   "outputs": [
    {
     "ename": "SyntaxError",
     "evalue": "can't use starred expression here (223014790.py, line 1)",
     "output_type": "error",
     "traceback": [
      "\u001b[1;36m  Cell \u001b[1;32mIn[1], line 1\u001b[1;36m\u001b[0m\n\u001b[1;33m    * asdfasdf\u001b[0m\n\u001b[1;37m    ^\u001b[0m\n\u001b[1;31mSyntaxError\u001b[0m\u001b[1;31m:\u001b[0m can't use starred expression here\n"
     ]
    }
   ],
   "source": [
    "* asdfasdf\n"
   ]
  },
  {
   "cell_type": "markdown",
   "id": "0ff0641e-819e-4827-96b7-f675cfc9ebd5",
   "metadata": {},
   "source": [
    "* asdfasdf"
   ]
  },
  {
   "cell_type": "markdown",
   "id": "80ba42fe-9c47-4933-aba9-6dd55fd7edc2",
   "metadata": {},
   "source": [
    "** safasdfa **\n"
   ]
  },
  {
   "cell_type": "markdown",
   "id": "2917ec96-a647-4cea-8684-7e75c4614104",
   "metadata": {},
   "source": [
    "** asdfasdfasf"
   ]
  },
  {
   "cell_type": "markdown",
   "id": "545e555a-3b9d-4610-b064-7f8dd33bf6b5",
   "metadata": {},
   "source": [
    "*** asdfasdfasdfasdf ***\n"
   ]
  },
  {
   "cell_type": "markdown",
   "id": "2c77ce45-1e8b-4839-b511-e896956a308f",
   "metadata": {},
   "source": [
    "**asdfasfd**"
   ]
  },
  {
   "cell_type": "markdown",
   "id": "264b1cb4-82f9-48e0-86b9-3f65601f7fe9",
   "metadata": {},
   "source": [
    "*asdfasdf*\n"
   ]
  },
  {
   "cell_type": "markdown",
   "id": "ff10f726-5dce-46a3-ac39-435fb54b7727",
   "metadata": {},
   "source": [
    "# AAA"
   ]
  },
  {
   "cell_type": "markdown",
   "id": "a8ee94b1-0a42-4fae-87e8-1505c9293e84",
   "metadata": {},
   "source": [
    "1. asdfasdf\n",
    "2. asdfasdfasd\n",
    "3. sadfasdfasdf"
   ]
  },
  {
   "cell_type": "markdown",
   "id": "bff064d5-de76-4676-bfcc-f8ff73d310ae",
   "metadata": {},
   "source": [
    "# asdfasdf"
   ]
  },
  {
   "cell_type": "markdown",
   "id": "89a7dba0-587e-4088-9549-41a259d5522d",
   "metadata": {},
   "source": [
    "# Latex"
   ]
  },
  {
   "cell_type": "code",
   "execution_count": null,
   "id": "589a93ca-eace-4ee6-aafe-89df64d1c1b5",
   "metadata": {},
   "outputs": [],
   "source": []
  }
 ],
 "metadata": {
  "kernelspec": {
   "display_name": "Python 3 (ipykernel)",
   "language": "python",
   "name": "python3"
  },
  "language_info": {
   "codemirror_mode": {
    "name": "ipython",
    "version": 3
   },
   "file_extension": ".py",
   "mimetype": "text/x-python",
   "name": "python",
   "nbconvert_exporter": "python",
   "pygments_lexer": "ipython3",
   "version": "3.11.7"
  }
 },
 "nbformat": 4,
 "nbformat_minor": 5
}
